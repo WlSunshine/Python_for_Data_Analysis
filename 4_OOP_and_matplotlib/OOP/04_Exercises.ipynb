{
 "cells": [
  {
   "cell_type": "markdown",
   "metadata": {},
   "source": [
    "# Lecture4 Exercises"
   ]
  },
  {
   "cell_type": "markdown",
   "metadata": {},
   "source": [
    "## Functional Programming\n",
    "\n",
    "Use the [map](https://docs.python.org/2/library/functions.html#map) and [filter](https://docs.python.org/2/library/functions.html#filter) functions to convert the list `l = [0,1,2,3,4,5,6,7,8,9,10]` into a list of the squares of the even numbers in `l`.\n",
    "\n",
    "Hints:\n",
    "\n",
    "1. Use map() to apply a function to each element in the list\n",
    "2. Use filter() to filter elements of a list\n",
    "3. Use lambda to define anonymous functions\n",
    "4. *Do not* use list comprehensions"
   ]
  },
  {
   "cell_type": "code",
   "execution_count": 65,
   "metadata": {
    "collapsed": false
   },
   "outputs": [
    {
     "name": "stdout",
     "output_type": "stream",
     "text": [
      "[0, 1, 4, 9, 16, 25, 36, 49, 64, 81, 100]\n",
      "[0, 4, 16, 36, 64, 100]\n"
     ]
    }
   ],
   "source": [
    "l = [0,1,2,3,4,5,6,7,8,9,10]\n",
    "#write code here\n",
    "#use map to get the square of each element of l\n",
    "lsqua=map(lambda x: x*x, l)\n",
    "print lsqua\n",
    "#use filter to filter elments of a list\n",
    "leven=filter(lambda x: x%2==0,lsqua)\n",
    "print leven"
   ]
  },
  {
   "cell_type": "markdown",
   "metadata": {},
   "source": [
    "### Object Oriented Programming"
   ]
  },
  {
   "cell_type": "markdown",
   "metadata": {},
   "source": [
    "Implement a Python iterator which iterates over string characters (ASCII only) returning their ASCII code\n",
    "\n",
    "1. Define a new iterator class which contains two methods:\n",
    "    -init – a constructor taking the ASCII string as a argument,\n",
    "    -next – returns the ASCII code of the next character or raises a StopIteration exception if the string end was encountered.\n",
    "\n",
    "2. Define a new iterable class which wraps around a string and contains iter method which returns the iterator instance.\n",
    "3. Test your code using explicit calls of next method (see example in the lecture) and for loop."
   ]
  },
  {
   "cell_type": "code",
   "execution_count": 139,
   "metadata": {
    "collapsed": false
   },
   "outputs": [],
   "source": [
    "class StringIterator:\n",
    "    def __init__(self, string):\n",
    "        self.string=list(string)\n",
    "        self.string1=[x for x in self.string if x !=' '] #split spring to a list of characters and remove empty items\n",
    "        print self.string, self.string1\n",
    "        self.ind = 0\n",
    "        self.size = len(self.string1)\n",
    "        print self.ind, self.size\n",
    "    \n",
    "    def __iter__(self):\n",
    "        return self\n",
    "    \n",
    "    def next(self):\n",
    "        if self.ind < self.size:\n",
    "            self.ind +=1\n",
    "            print self.ind\n",
    "            return ord(self.string1[self.ind-1])\n",
    "        else:\n",
    "            print ('out of range')\n",
    "            raise StopIteration\n",
    "               \n",
    "class StringIterable:\n",
    "    def __init__(self,string):\n",
    "        self.string=list(string)\n",
    "        self.string1=[x for x in self.string if x !=' '] #split spring to a list of characters and remove empty items\n",
    "        print self.string, self.string1\n",
    "        self.ind = 0\n",
    "        self.size = len(self.string1)\n",
    "        print self.ind, self.size\n",
    "\n",
    "    def __iter__(self):        \n",
    "        while self.ind < self.size:\n",
    "            self.ind +=1\n",
    "            yield ord(self.string1[self.ind-1])"
   ]
  },
  {
   "cell_type": "code",
   "execution_count": 142,
   "metadata": {
    "collapsed": false
   },
   "outputs": [
    {
     "name": "stdout",
     "output_type": "stream",
     "text": [
      "['J', 'u', 'l', 'i', 'e', ' ', 'i', 's'] ['J', 'u', 'l', 'i', 'e', 'i', 's']\n",
      "0 7\n",
      "1\n",
      "74\n",
      "2\n",
      "117\n",
      "3\n",
      "108\n",
      "4\n",
      "105\n",
      "5\n",
      "101\n",
      "6\n",
      "105\n",
      "7\n",
      "115\n",
      "out of range\n",
      "['J', 'u', 'l', 'i', 'e', ' ', 'i', 's'] ['J', 'u', 'l', 'i', 'e', 'i', 's']\n",
      "0 7\n",
      "74\n",
      "117\n",
      "108\n",
      "105\n",
      "101\n",
      "105\n",
      "115\n"
     ]
    }
   ],
   "source": [
    "# stringiter = StringIterator()\n",
    "# stringiter.__next__('Julie')\n",
    "#book.addStudent(Grad('Charlie'))\n",
    "for s in StringIterator(\"Julie is\"):\n",
    "    print s\n",
    "\n",
    "for s in StringIterable(\"Julie is\"):\n",
    "    print s"
   ]
  },
  {
   "cell_type": "markdown",
   "metadata": {},
   "source": [
    "## Fibonacci Sequence\n",
    "\n",
    "write a class Fibonacci whose constructor takes two numbers; the class uses these two numbers as the first two numbers in the sequence. \n",
    "\n",
    "1. The class should have a method calculate(n) that returns the n-th number in the sequence.\n",
    "2. Add a method next(). The first call to next() returns the first number in the sequence, the second call returns the second number, and so on. You'll need instance variables to save state between calls. \n",
    "3. Finally, add a method writeToFile(n, filename), that writes the first n numbers in the sequence to the file named filename, one number per line.\n",
    "\n",
    "**HINT:** you should store previously computed fibonachi numbers instead of recomputing every one as they are needed"
   ]
  },
  {
   "cell_type": "code",
   "execution_count": 168,
   "metadata": {
    "collapsed": false
   },
   "outputs": [],
   "source": [
    "class Fibonacci:\n",
    "    def __init__(self):\n",
    "        #raise(\"Todo\")\n",
    "        self.x=0\n",
    "        self.y=1\n",
    "        self.i = 0\n",
    "        print self.x, self.y\n",
    "        \n",
    "    def next(self):\n",
    "        if self.i < 1:\n",
    "            self.i += 1\n",
    "            return self.x\n",
    "        else:\n",
    "            self.i += 1\n",
    "            (self.x, self.y) = (self.y, self.x + self.y)\n",
    "            return self.x\n",
    "    \n",
    "    def calculate(self, n):\n",
    "        (current, next) = (0,1)\n",
    "        index = 0\n",
    "        while (index < n):\n",
    "            (current, next) = (next, current + next)\n",
    "            index +=1\n",
    "        return current\n",
    "        \n",
    "    def writeToFile(self, n, filename):\n",
    "        sequence_list = []\n",
    "        current = 0\n",
    "        next = 1\n",
    "        index = 0 \n",
    "        while (index < n):\n",
    "            (current, next) = (next, current + next)\n",
    "            index +=1\n",
    "            sequence_list.append(current)\n",
    "        return current\n",
    "# #         for i in range(n):\n",
    "# #             sequence_list.append(current)\n",
    "# #             current = old\n",
    "# #             if i > 0:\n",
    "# #                 old = sequence_list[i] + current\n",
    "# #             else:\n",
    "# #                 old = 1\n",
    "# #             return sequence_list\n",
    "        f = open(filename, 'w')\n",
    "        f.write(sequence_list)\n",
    "        f.close()"
   ]
  },
  {
   "cell_type": "code",
   "execution_count": 169,
   "metadata": {
    "collapsed": false
   },
   "outputs": [
    {
     "name": "stdout",
     "output_type": "stream",
     "text": [
      "0 1\n",
      "True\n",
      "True\n",
      "True\n",
      "True\n",
      "True\n",
      "True\n",
      "True\n",
      "True\n"
     ]
    },
    {
     "data": {
      "text/plain": [
       "832040"
      ]
     },
     "execution_count": 169,
     "metadata": {},
     "output_type": "execute_result"
    }
   ],
   "source": [
    "#Testing code, should all equal print true\n",
    "fib = Fibonacci()\n",
    "\n",
    "print fib.calculate(0) == 0\n",
    "print fib.calculate(1) == 1\n",
    "print fib.calculate(2) == 1\n",
    "print fib.calculate(3) == 2\n",
    "print fib.calculate(20) == 6765 \n",
    "print fib.next() == fib.calculate(0)\n",
    "print fib.next() == fib.calculate(1)\n",
    "print fib.next() == fib.calculate(2)\n",
    "fib.writeToFile(30, \"fib.out\")"
   ]
  },
  {
   "cell_type": "markdown",
   "metadata": {},
   "source": [
    "Write a function solve(h,l) which solves the folowing classic puzzle: \n",
    "\n",
    "We count h heads and l legs among the chickens and rabbits in a farm. How many rabbits and how many chickens do we have? where h and l are the parameters passed to the function solve\n",
    "\n",
    "    >> numheads=35\n",
    "    >> numlegs=94\n",
    "    >> solutions=solve(numheads,numlegs)\n",
    "    >> print solutions\n",
    "\n"
   ]
  },
  {
   "cell_type": "code",
   "execution_count": 51,
   "metadata": {
    "collapsed": false
   },
   "outputs": [],
   "source": [
    "def solve(h,l):\n",
    "    for rabbits in range(h + 1):\n",
    "        chickens = h - rabbits\n",
    "        if 2*chickens + 4*rabbits == l:\n",
    "            print \"Number of chickens are %d\" % chickens\n",
    "            print \"Number of chickens are %d\" % rabbits"
   ]
  },
  {
   "cell_type": "code",
   "execution_count": 52,
   "metadata": {
    "collapsed": false
   },
   "outputs": [
    {
     "name": "stdout",
     "output_type": "stream",
     "text": [
      "Number of chickens are 23\n",
      "Number of chickens are 12\n"
     ]
    }
   ],
   "source": [
    "solve(35,94)"
   ]
  },
  {
   "cell_type": "code",
   "execution_count": 97,
   "metadata": {
    "collapsed": false
   },
   "outputs": [
    {
     "name": "stdout",
     "output_type": "stream",
     "text": [
      "01_Object Oriented Python.ipynb     Inheritence.py\r\n",
      "02_Classes_for_mortgage_calcs.ipynb \u001b[31mcompareMortgages.py\u001b[m\u001b[m\r\n",
      "03_VisualMortgages.ipynb            dogClass.py\r\n",
      "04_Exercises.ipynb\r\n"
     ]
    }
   ],
   "source": [
    "!ls"
   ]
  },
  {
   "cell_type": "code",
   "execution_count": 155,
   "metadata": {
    "collapsed": false
   },
   "outputs": [
    {
     "name": "stdout",
     "output_type": "stream",
     "text": [
      "01_Object Oriented Python.ipynb     Inheritence.py\r\n",
      "02_Classes_for_mortgage_calcs.ipynb \u001b[31mcompareMortgages.py\u001b[m\u001b[m\r\n",
      "03_VisualMortgages.ipynb            dogClass.py\r\n",
      "04_Exercises.ipynb\r\n"
     ]
    }
   ],
   "source": [
    "!ls"
   ]
  },
  {
   "cell_type": "code",
   "execution_count": null,
   "metadata": {
    "collapsed": true
   },
   "outputs": [],
   "source": []
  }
 ],
 "metadata": {
  "anaconda-cloud": {},
  "kernelspec": {
   "display_name": "Python [default]",
   "language": "python",
   "name": "python2"
  },
  "language_info": {
   "codemirror_mode": {
    "name": "ipython",
    "version": 2
   },
   "file_extension": ".py",
   "mimetype": "text/x-python",
   "name": "python",
   "nbconvert_exporter": "python",
   "pygments_lexer": "ipython2",
   "version": "2.7.12"
  }
 },
 "nbformat": 4,
 "nbformat_minor": 0
}
